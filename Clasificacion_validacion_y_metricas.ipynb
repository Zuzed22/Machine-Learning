{
  "nbformat": 4,
  "nbformat_minor": 0,
  "metadata": {
    "colab": {
      "provenance": [],
      "include_colab_link": true
    },
    "kernelspec": {
      "name": "python3",
      "display_name": "Python 3"
    },
    "language_info": {
      "name": "python"
    }
  },
  "cells": [
    {
      "cell_type": "markdown",
      "metadata": {
        "id": "view-in-github",
        "colab_type": "text"
      },
      "source": [
        "<a href=\"https://colab.research.google.com/github/Zuzed22/Machine-Learning/blob/main/Clasificacion_validacion_y_metricas.ipynb\" target=\"_parent\"><img src=\"https://colab.research.google.com/assets/colab-badge.svg\" alt=\"Open In Colab\"/></a>"
      ]
    },
    {
      "cell_type": "markdown",
      "source": [
        "# <font color='dark'>**Clasificación: Validación de modelos y métricas de evaluación**</h1>"
      ],
      "metadata": {
        "id": "MCqTDybk4ShK"
      }
    },
    {
      "cell_type": "markdown",
      "source": [
        "### Proyecto\n",
        "\n",
        "Una empresa de financiamiento de automóviles está atravesando una situación complicada, con una alta demanda para una flota reducida de vehículos y un alto número de morosos, lo que está generando grandes pérdidas para la empresa.\n",
        "\n",
        "Nosotros fuimos contratados para buscar mejoras en la identificación de morosos. El análisis de los clientes actualmente se realiza de forma manual, cliente por cliente, lo que consume mucho tiempo y, aun así, la detección de morosos es muy imprecisa.\n",
        "\n",
        "Nuestra tarea es utilizar los datos proporcionados por la empresa para **clasificar** a los clientes en cumplidores y morosos."
      ],
      "metadata": {
        "id": "WscU3KG7a9No"
      }
    },
    {
      "cell_type": "markdown",
      "source": [
        "## <font color='dark'>Clasificando los datos</h1>"
      ],
      "metadata": {
        "id": "WgS8iF51Csrn"
      }
    },
    {
      "cell_type": "markdown",
      "source": [
        "### Creando un modelo inicial"
      ],
      "metadata": {
        "id": "6lExmBuKn-xe"
      }
    },
    {
      "cell_type": "code",
      "source": [
        "import pandas as pd"
      ],
      "metadata": {
        "id": "ANJDC3LqP43q"
      },
      "execution_count": 134,
      "outputs": []
    },
    {
      "cell_type": "code",
      "source": [
        "datos = pd.read_csv('/content/prestacar.csv')"
      ],
      "metadata": {
        "id": "UPddns6dP4kt"
      },
      "execution_count": 135,
      "outputs": []
    },
    {
      "cell_type": "code",
      "source": [
        "datos"
      ],
      "metadata": {
        "id": "UVIX6QLpP4iC",
        "colab": {
          "base_uri": "https://localhost:8080/",
          "height": 443
        },
        "outputId": "73ef551d-7953-4940-b072-410a4bf7d77d"
      },
      "execution_count": 136,
      "outputs": [
        {
          "output_type": "execute_result",
          "data": {
            "text/plain": [
              "       ingresos_cliente  anualidad_prestamo  años_casa_propia  telefono_trab  \\\n",
              "0          12600.000000         3569.400000         12.157324              1   \n",
              "1           9000.000000         2722.188351          7.000000              0   \n",
              "2          15750.000000         4477.500000         12.000000              0   \n",
              "3           9000.000000         1309.050000         12.157324              0   \n",
              "4           7650.000000         1125.000000         12.157324              0   \n",
              "...                 ...                 ...               ...            ...   \n",
              "54020      16855.246324          675.000000         12.157324              1   \n",
              "54021      11250.000000          675.000000         14.000000              0   \n",
              "54022      13500.000000          900.000000         64.000000              0   \n",
              "54023      11250.000000         2371.500000         12.157324              0   \n",
              "54024      21060.000000         2459.250000         12.157324              0   \n",
              "\n",
              "       evaluacion_ciudad   score_1   score_2   score_3  score_social  \\\n",
              "0                    2.0  0.057153  0.527227  0.513171      0.117428   \n",
              "1                    2.0  0.657661  0.285898  0.614414      0.222700   \n",
              "2                    2.0  0.501213  0.695423  0.513171      0.117428   \n",
              "3                    3.0  0.501213  0.155973  0.513171      0.117428   \n",
              "4                    2.0  0.294328  0.152076  0.513171      0.117428   \n",
              "...                  ...       ...       ...       ...           ...   \n",
              "54020                2.0  0.501213  0.180635  0.513171      0.082500   \n",
              "54021                3.0  0.409620  0.606002  0.513171      0.117428   \n",
              "54022                2.0  0.162632  0.525412  0.513171      0.117428   \n",
              "54023                3.0  0.501213  0.664027  0.513171      0.117428   \n",
              "54024                2.0  0.339656  0.656468  0.513171      0.117428   \n",
              "\n",
              "       cambio_telefono  moroso  \n",
              "0          2545.000000       0  \n",
              "1           495.000000       0  \n",
              "2          1212.000000       0  \n",
              "3           515.000000       0  \n",
              "4           162.000000       0  \n",
              "...                ...     ...  \n",
              "54020         0.000000       1  \n",
              "54021       466.000000       1  \n",
              "54022       962.106056       1  \n",
              "54023       482.000000       1  \n",
              "54024         0.000000       1  \n",
              "\n",
              "[54025 rows x 11 columns]"
            ],
            "text/html": [
              "\n",
              "  <div id=\"df-f3e48f1c-943f-4476-96e7-39e2ebdd2d38\" class=\"colab-df-container\">\n",
              "    <div>\n",
              "<style scoped>\n",
              "    .dataframe tbody tr th:only-of-type {\n",
              "        vertical-align: middle;\n",
              "    }\n",
              "\n",
              "    .dataframe tbody tr th {\n",
              "        vertical-align: top;\n",
              "    }\n",
              "\n",
              "    .dataframe thead th {\n",
              "        text-align: right;\n",
              "    }\n",
              "</style>\n",
              "<table border=\"1\" class=\"dataframe\">\n",
              "  <thead>\n",
              "    <tr style=\"text-align: right;\">\n",
              "      <th></th>\n",
              "      <th>ingresos_cliente</th>\n",
              "      <th>anualidad_prestamo</th>\n",
              "      <th>años_casa_propia</th>\n",
              "      <th>telefono_trab</th>\n",
              "      <th>evaluacion_ciudad</th>\n",
              "      <th>score_1</th>\n",
              "      <th>score_2</th>\n",
              "      <th>score_3</th>\n",
              "      <th>score_social</th>\n",
              "      <th>cambio_telefono</th>\n",
              "      <th>moroso</th>\n",
              "    </tr>\n",
              "  </thead>\n",
              "  <tbody>\n",
              "    <tr>\n",
              "      <th>0</th>\n",
              "      <td>12600.000000</td>\n",
              "      <td>3569.400000</td>\n",
              "      <td>12.157324</td>\n",
              "      <td>1</td>\n",
              "      <td>2.0</td>\n",
              "      <td>0.057153</td>\n",
              "      <td>0.527227</td>\n",
              "      <td>0.513171</td>\n",
              "      <td>0.117428</td>\n",
              "      <td>2545.000000</td>\n",
              "      <td>0</td>\n",
              "    </tr>\n",
              "    <tr>\n",
              "      <th>1</th>\n",
              "      <td>9000.000000</td>\n",
              "      <td>2722.188351</td>\n",
              "      <td>7.000000</td>\n",
              "      <td>0</td>\n",
              "      <td>2.0</td>\n",
              "      <td>0.657661</td>\n",
              "      <td>0.285898</td>\n",
              "      <td>0.614414</td>\n",
              "      <td>0.222700</td>\n",
              "      <td>495.000000</td>\n",
              "      <td>0</td>\n",
              "    </tr>\n",
              "    <tr>\n",
              "      <th>2</th>\n",
              "      <td>15750.000000</td>\n",
              "      <td>4477.500000</td>\n",
              "      <td>12.000000</td>\n",
              "      <td>0</td>\n",
              "      <td>2.0</td>\n",
              "      <td>0.501213</td>\n",
              "      <td>0.695423</td>\n",
              "      <td>0.513171</td>\n",
              "      <td>0.117428</td>\n",
              "      <td>1212.000000</td>\n",
              "      <td>0</td>\n",
              "    </tr>\n",
              "    <tr>\n",
              "      <th>3</th>\n",
              "      <td>9000.000000</td>\n",
              "      <td>1309.050000</td>\n",
              "      <td>12.157324</td>\n",
              "      <td>0</td>\n",
              "      <td>3.0</td>\n",
              "      <td>0.501213</td>\n",
              "      <td>0.155973</td>\n",
              "      <td>0.513171</td>\n",
              "      <td>0.117428</td>\n",
              "      <td>515.000000</td>\n",
              "      <td>0</td>\n",
              "    </tr>\n",
              "    <tr>\n",
              "      <th>4</th>\n",
              "      <td>7650.000000</td>\n",
              "      <td>1125.000000</td>\n",
              "      <td>12.157324</td>\n",
              "      <td>0</td>\n",
              "      <td>2.0</td>\n",
              "      <td>0.294328</td>\n",
              "      <td>0.152076</td>\n",
              "      <td>0.513171</td>\n",
              "      <td>0.117428</td>\n",
              "      <td>162.000000</td>\n",
              "      <td>0</td>\n",
              "    </tr>\n",
              "    <tr>\n",
              "      <th>...</th>\n",
              "      <td>...</td>\n",
              "      <td>...</td>\n",
              "      <td>...</td>\n",
              "      <td>...</td>\n",
              "      <td>...</td>\n",
              "      <td>...</td>\n",
              "      <td>...</td>\n",
              "      <td>...</td>\n",
              "      <td>...</td>\n",
              "      <td>...</td>\n",
              "      <td>...</td>\n",
              "    </tr>\n",
              "    <tr>\n",
              "      <th>54020</th>\n",
              "      <td>16855.246324</td>\n",
              "      <td>675.000000</td>\n",
              "      <td>12.157324</td>\n",
              "      <td>1</td>\n",
              "      <td>2.0</td>\n",
              "      <td>0.501213</td>\n",
              "      <td>0.180635</td>\n",
              "      <td>0.513171</td>\n",
              "      <td>0.082500</td>\n",
              "      <td>0.000000</td>\n",
              "      <td>1</td>\n",
              "    </tr>\n",
              "    <tr>\n",
              "      <th>54021</th>\n",
              "      <td>11250.000000</td>\n",
              "      <td>675.000000</td>\n",
              "      <td>14.000000</td>\n",
              "      <td>0</td>\n",
              "      <td>3.0</td>\n",
              "      <td>0.409620</td>\n",
              "      <td>0.606002</td>\n",
              "      <td>0.513171</td>\n",
              "      <td>0.117428</td>\n",
              "      <td>466.000000</td>\n",
              "      <td>1</td>\n",
              "    </tr>\n",
              "    <tr>\n",
              "      <th>54022</th>\n",
              "      <td>13500.000000</td>\n",
              "      <td>900.000000</td>\n",
              "      <td>64.000000</td>\n",
              "      <td>0</td>\n",
              "      <td>2.0</td>\n",
              "      <td>0.162632</td>\n",
              "      <td>0.525412</td>\n",
              "      <td>0.513171</td>\n",
              "      <td>0.117428</td>\n",
              "      <td>962.106056</td>\n",
              "      <td>1</td>\n",
              "    </tr>\n",
              "    <tr>\n",
              "      <th>54023</th>\n",
              "      <td>11250.000000</td>\n",
              "      <td>2371.500000</td>\n",
              "      <td>12.157324</td>\n",
              "      <td>0</td>\n",
              "      <td>3.0</td>\n",
              "      <td>0.501213</td>\n",
              "      <td>0.664027</td>\n",
              "      <td>0.513171</td>\n",
              "      <td>0.117428</td>\n",
              "      <td>482.000000</td>\n",
              "      <td>1</td>\n",
              "    </tr>\n",
              "    <tr>\n",
              "      <th>54024</th>\n",
              "      <td>21060.000000</td>\n",
              "      <td>2459.250000</td>\n",
              "      <td>12.157324</td>\n",
              "      <td>0</td>\n",
              "      <td>2.0</td>\n",
              "      <td>0.339656</td>\n",
              "      <td>0.656468</td>\n",
              "      <td>0.513171</td>\n",
              "      <td>0.117428</td>\n",
              "      <td>0.000000</td>\n",
              "      <td>1</td>\n",
              "    </tr>\n",
              "  </tbody>\n",
              "</table>\n",
              "<p>54025 rows × 11 columns</p>\n",
              "</div>\n",
              "    <div class=\"colab-df-buttons\">\n",
              "\n",
              "  <div class=\"colab-df-container\">\n",
              "    <button class=\"colab-df-convert\" onclick=\"convertToInteractive('df-f3e48f1c-943f-4476-96e7-39e2ebdd2d38')\"\n",
              "            title=\"Convert this dataframe to an interactive table.\"\n",
              "            style=\"display:none;\">\n",
              "\n",
              "  <svg xmlns=\"http://www.w3.org/2000/svg\" height=\"24px\" viewBox=\"0 -960 960 960\">\n",
              "    <path d=\"M120-120v-720h720v720H120Zm60-500h600v-160H180v160Zm220 220h160v-160H400v160Zm0 220h160v-160H400v160ZM180-400h160v-160H180v160Zm440 0h160v-160H620v160ZM180-180h160v-160H180v160Zm440 0h160v-160H620v160Z\"/>\n",
              "  </svg>\n",
              "    </button>\n",
              "\n",
              "  <style>\n",
              "    .colab-df-container {\n",
              "      display:flex;\n",
              "      gap: 12px;\n",
              "    }\n",
              "\n",
              "    .colab-df-convert {\n",
              "      background-color: #E8F0FE;\n",
              "      border: none;\n",
              "      border-radius: 50%;\n",
              "      cursor: pointer;\n",
              "      display: none;\n",
              "      fill: #1967D2;\n",
              "      height: 32px;\n",
              "      padding: 0 0 0 0;\n",
              "      width: 32px;\n",
              "    }\n",
              "\n",
              "    .colab-df-convert:hover {\n",
              "      background-color: #E2EBFA;\n",
              "      box-shadow: 0px 1px 2px rgba(60, 64, 67, 0.3), 0px 1px 3px 1px rgba(60, 64, 67, 0.15);\n",
              "      fill: #174EA6;\n",
              "    }\n",
              "\n",
              "    .colab-df-buttons div {\n",
              "      margin-bottom: 4px;\n",
              "    }\n",
              "\n",
              "    [theme=dark] .colab-df-convert {\n",
              "      background-color: #3B4455;\n",
              "      fill: #D2E3FC;\n",
              "    }\n",
              "\n",
              "    [theme=dark] .colab-df-convert:hover {\n",
              "      background-color: #434B5C;\n",
              "      box-shadow: 0px 1px 3px 1px rgba(0, 0, 0, 0.15);\n",
              "      filter: drop-shadow(0px 1px 2px rgba(0, 0, 0, 0.3));\n",
              "      fill: #FFFFFF;\n",
              "    }\n",
              "  </style>\n",
              "\n",
              "    <script>\n",
              "      const buttonEl =\n",
              "        document.querySelector('#df-f3e48f1c-943f-4476-96e7-39e2ebdd2d38 button.colab-df-convert');\n",
              "      buttonEl.style.display =\n",
              "        google.colab.kernel.accessAllowed ? 'block' : 'none';\n",
              "\n",
              "      async function convertToInteractive(key) {\n",
              "        const element = document.querySelector('#df-f3e48f1c-943f-4476-96e7-39e2ebdd2d38');\n",
              "        const dataTable =\n",
              "          await google.colab.kernel.invokeFunction('convertToInteractive',\n",
              "                                                    [key], {});\n",
              "        if (!dataTable) return;\n",
              "\n",
              "        const docLinkHtml = 'Like what you see? Visit the ' +\n",
              "          '<a target=\"_blank\" href=https://colab.research.google.com/notebooks/data_table.ipynb>data table notebook</a>'\n",
              "          + ' to learn more about interactive tables.';\n",
              "        element.innerHTML = '';\n",
              "        dataTable['output_type'] = 'display_data';\n",
              "        await google.colab.output.renderOutput(dataTable, element);\n",
              "        const docLink = document.createElement('div');\n",
              "        docLink.innerHTML = docLinkHtml;\n",
              "        element.appendChild(docLink);\n",
              "      }\n",
              "    </script>\n",
              "  </div>\n",
              "\n",
              "\n",
              "    <div id=\"df-40ebc464-469a-435d-af10-50ac3b063fc3\">\n",
              "      <button class=\"colab-df-quickchart\" onclick=\"quickchart('df-40ebc464-469a-435d-af10-50ac3b063fc3')\"\n",
              "                title=\"Suggest charts\"\n",
              "                style=\"display:none;\">\n",
              "\n",
              "<svg xmlns=\"http://www.w3.org/2000/svg\" height=\"24px\"viewBox=\"0 0 24 24\"\n",
              "     width=\"24px\">\n",
              "    <g>\n",
              "        <path d=\"M19 3H5c-1.1 0-2 .9-2 2v14c0 1.1.9 2 2 2h14c1.1 0 2-.9 2-2V5c0-1.1-.9-2-2-2zM9 17H7v-7h2v7zm4 0h-2V7h2v10zm4 0h-2v-4h2v4z\"/>\n",
              "    </g>\n",
              "</svg>\n",
              "      </button>\n",
              "\n",
              "<style>\n",
              "  .colab-df-quickchart {\n",
              "      --bg-color: #E8F0FE;\n",
              "      --fill-color: #1967D2;\n",
              "      --hover-bg-color: #E2EBFA;\n",
              "      --hover-fill-color: #174EA6;\n",
              "      --disabled-fill-color: #AAA;\n",
              "      --disabled-bg-color: #DDD;\n",
              "  }\n",
              "\n",
              "  [theme=dark] .colab-df-quickchart {\n",
              "      --bg-color: #3B4455;\n",
              "      --fill-color: #D2E3FC;\n",
              "      --hover-bg-color: #434B5C;\n",
              "      --hover-fill-color: #FFFFFF;\n",
              "      --disabled-bg-color: #3B4455;\n",
              "      --disabled-fill-color: #666;\n",
              "  }\n",
              "\n",
              "  .colab-df-quickchart {\n",
              "    background-color: var(--bg-color);\n",
              "    border: none;\n",
              "    border-radius: 50%;\n",
              "    cursor: pointer;\n",
              "    display: none;\n",
              "    fill: var(--fill-color);\n",
              "    height: 32px;\n",
              "    padding: 0;\n",
              "    width: 32px;\n",
              "  }\n",
              "\n",
              "  .colab-df-quickchart:hover {\n",
              "    background-color: var(--hover-bg-color);\n",
              "    box-shadow: 0 1px 2px rgba(60, 64, 67, 0.3), 0 1px 3px 1px rgba(60, 64, 67, 0.15);\n",
              "    fill: var(--button-hover-fill-color);\n",
              "  }\n",
              "\n",
              "  .colab-df-quickchart-complete:disabled,\n",
              "  .colab-df-quickchart-complete:disabled:hover {\n",
              "    background-color: var(--disabled-bg-color);\n",
              "    fill: var(--disabled-fill-color);\n",
              "    box-shadow: none;\n",
              "  }\n",
              "\n",
              "  .colab-df-spinner {\n",
              "    border: 2px solid var(--fill-color);\n",
              "    border-color: transparent;\n",
              "    border-bottom-color: var(--fill-color);\n",
              "    animation:\n",
              "      spin 1s steps(1) infinite;\n",
              "  }\n",
              "\n",
              "  @keyframes spin {\n",
              "    0% {\n",
              "      border-color: transparent;\n",
              "      border-bottom-color: var(--fill-color);\n",
              "      border-left-color: var(--fill-color);\n",
              "    }\n",
              "    20% {\n",
              "      border-color: transparent;\n",
              "      border-left-color: var(--fill-color);\n",
              "      border-top-color: var(--fill-color);\n",
              "    }\n",
              "    30% {\n",
              "      border-color: transparent;\n",
              "      border-left-color: var(--fill-color);\n",
              "      border-top-color: var(--fill-color);\n",
              "      border-right-color: var(--fill-color);\n",
              "    }\n",
              "    40% {\n",
              "      border-color: transparent;\n",
              "      border-right-color: var(--fill-color);\n",
              "      border-top-color: var(--fill-color);\n",
              "    }\n",
              "    60% {\n",
              "      border-color: transparent;\n",
              "      border-right-color: var(--fill-color);\n",
              "    }\n",
              "    80% {\n",
              "      border-color: transparent;\n",
              "      border-right-color: var(--fill-color);\n",
              "      border-bottom-color: var(--fill-color);\n",
              "    }\n",
              "    90% {\n",
              "      border-color: transparent;\n",
              "      border-bottom-color: var(--fill-color);\n",
              "    }\n",
              "  }\n",
              "</style>\n",
              "\n",
              "      <script>\n",
              "        async function quickchart(key) {\n",
              "          const quickchartButtonEl =\n",
              "            document.querySelector('#' + key + ' button');\n",
              "          quickchartButtonEl.disabled = true;  // To prevent multiple clicks.\n",
              "          quickchartButtonEl.classList.add('colab-df-spinner');\n",
              "          try {\n",
              "            const charts = await google.colab.kernel.invokeFunction(\n",
              "                'suggestCharts', [key], {});\n",
              "          } catch (error) {\n",
              "            console.error('Error during call to suggestCharts:', error);\n",
              "          }\n",
              "          quickchartButtonEl.classList.remove('colab-df-spinner');\n",
              "          quickchartButtonEl.classList.add('colab-df-quickchart-complete');\n",
              "        }\n",
              "        (() => {\n",
              "          let quickchartButtonEl =\n",
              "            document.querySelector('#df-40ebc464-469a-435d-af10-50ac3b063fc3 button');\n",
              "          quickchartButtonEl.style.display =\n",
              "            google.colab.kernel.accessAllowed ? 'block' : 'none';\n",
              "        })();\n",
              "      </script>\n",
              "    </div>\n",
              "\n",
              "  <div id=\"id_e0206d6e-958a-4ba7-a999-8e237d09201e\">\n",
              "    <style>\n",
              "      .colab-df-generate {\n",
              "        background-color: #E8F0FE;\n",
              "        border: none;\n",
              "        border-radius: 50%;\n",
              "        cursor: pointer;\n",
              "        display: none;\n",
              "        fill: #1967D2;\n",
              "        height: 32px;\n",
              "        padding: 0 0 0 0;\n",
              "        width: 32px;\n",
              "      }\n",
              "\n",
              "      .colab-df-generate:hover {\n",
              "        background-color: #E2EBFA;\n",
              "        box-shadow: 0px 1px 2px rgba(60, 64, 67, 0.3), 0px 1px 3px 1px rgba(60, 64, 67, 0.15);\n",
              "        fill: #174EA6;\n",
              "      }\n",
              "\n",
              "      [theme=dark] .colab-df-generate {\n",
              "        background-color: #3B4455;\n",
              "        fill: #D2E3FC;\n",
              "      }\n",
              "\n",
              "      [theme=dark] .colab-df-generate:hover {\n",
              "        background-color: #434B5C;\n",
              "        box-shadow: 0px 1px 3px 1px rgba(0, 0, 0, 0.15);\n",
              "        filter: drop-shadow(0px 1px 2px rgba(0, 0, 0, 0.3));\n",
              "        fill: #FFFFFF;\n",
              "      }\n",
              "    </style>\n",
              "    <button class=\"colab-df-generate\" onclick=\"generateWithVariable('datos')\"\n",
              "            title=\"Generate code using this dataframe.\"\n",
              "            style=\"display:none;\">\n",
              "\n",
              "  <svg xmlns=\"http://www.w3.org/2000/svg\" height=\"24px\"viewBox=\"0 0 24 24\"\n",
              "       width=\"24px\">\n",
              "    <path d=\"M7,19H8.4L18.45,9,17,7.55,7,17.6ZM5,21V16.75L18.45,3.32a2,2,0,0,1,2.83,0l1.4,1.43a1.91,1.91,0,0,1,.58,1.4,1.91,1.91,0,0,1-.58,1.4L9.25,21ZM18.45,9,17,7.55Zm-12,3A5.31,5.31,0,0,0,4.9,8.1,5.31,5.31,0,0,0,1,6.5,5.31,5.31,0,0,0,4.9,4.9,5.31,5.31,0,0,0,6.5,1,5.31,5.31,0,0,0,8.1,4.9,5.31,5.31,0,0,0,12,6.5,5.46,5.46,0,0,0,6.5,12Z\"/>\n",
              "  </svg>\n",
              "    </button>\n",
              "    <script>\n",
              "      (() => {\n",
              "      const buttonEl =\n",
              "        document.querySelector('#id_e0206d6e-958a-4ba7-a999-8e237d09201e button.colab-df-generate');\n",
              "      buttonEl.style.display =\n",
              "        google.colab.kernel.accessAllowed ? 'block' : 'none';\n",
              "\n",
              "      buttonEl.onclick = () => {\n",
              "        google.colab.notebook.generateWithVariable('datos');\n",
              "      }\n",
              "      })();\n",
              "    </script>\n",
              "  </div>\n",
              "\n",
              "    </div>\n",
              "  </div>\n"
            ],
            "application/vnd.google.colaboratory.intrinsic+json": {
              "type": "dataframe",
              "variable_name": "datos",
              "summary": "{\n  \"name\": \"datos\",\n  \"rows\": 54025,\n  \"fields\": [\n    {\n      \"column\": \"ingresos_cliente\",\n      \"properties\": {\n        \"dtype\": \"number\",\n        \"std\": 9658.762569130264,\n        \"min\": 2700.0,\n        \"max\": 450000.0,\n        \"num_unique_values\": 663,\n        \"samples\": [\n          11018.7,\n          38520.0,\n          17796.6\n        ],\n        \"semantic_type\": \"\",\n        \"description\": \"\"\n      }\n    },\n    {\n      \"column\": \"anualidad_prestamo\",\n      \"properties\": {\n        \"dtype\": \"number\",\n        \"std\": 1305.3647344874787,\n        \"min\": 218.7,\n        \"max\": 22500.0,\n        \"num_unique_values\": 8004,\n        \"samples\": [\n          5339.7,\n          5067.0,\n          5757.3\n        ],\n        \"semantic_type\": \"\",\n        \"description\": \"\"\n      }\n    },\n    {\n      \"column\": \"a\\u00f1os_casa_propia\",\n      \"properties\": {\n        \"dtype\": \"number\",\n        \"std\": 7.452120104984191,\n        \"min\": 0.0,\n        \"max\": 69.0,\n        \"num_unique_values\": 53,\n        \"samples\": [\n          11.0,\n          31.0,\n          32.0\n        ],\n        \"semantic_type\": \"\",\n        \"description\": \"\"\n      }\n    },\n    {\n      \"column\": \"telefono_trab\",\n      \"properties\": {\n        \"dtype\": \"number\",\n        \"std\": 0,\n        \"min\": 0,\n        \"max\": 1,\n        \"num_unique_values\": 2,\n        \"samples\": [\n          0,\n          1\n        ],\n        \"semantic_type\": \"\",\n        \"description\": \"\"\n      }\n    },\n    {\n      \"column\": \"evaluacion_ciudad\",\n      \"properties\": {\n        \"dtype\": \"number\",\n        \"std\": 0.49880682251877845,\n        \"min\": 1.0,\n        \"max\": 3.0,\n        \"num_unique_values\": 4,\n        \"samples\": [\n          3.0,\n          2.030038427084816\n        ],\n        \"semantic_type\": \"\",\n        \"description\": \"\"\n      }\n    },\n    {\n      \"column\": \"score_1\",\n      \"properties\": {\n        \"dtype\": \"number\",\n        \"std\": 0.14238945649917853,\n        \"min\": 0.014568132,\n        \"max\": 0.942680454,\n        \"num_unique_values\": 23062,\n        \"samples\": [\n          0.475611877,\n          0.435226091\n        ],\n        \"semantic_type\": \"\",\n        \"description\": \"\"\n      }\n    },\n    {\n      \"column\": \"score_2\",\n      \"properties\": {\n        \"dtype\": \"number\",\n        \"std\": 0.8759454878096079,\n        \"min\": 5e-06,\n        \"max\": 100.0,\n        \"num_unique_values\": 38047,\n        \"samples\": [\n          0.416306086,\n          0.675062411\n        ],\n        \"semantic_type\": \"\",\n        \"description\": \"\"\n      }\n    },\n    {\n      \"column\": \"score_3\",\n      \"properties\": {\n        \"dtype\": \"number\",\n        \"std\": 0.06272486372343226,\n        \"min\": 0.000527265,\n        \"max\": 0.869210801,\n        \"num_unique_values\": 612,\n        \"samples\": [\n          0.420610964,\n          0.168416171\n        ],\n        \"semantic_type\": \"\",\n        \"description\": \"\"\n      }\n    },\n    {\n      \"column\": \"score_social\",\n      \"properties\": {\n        \"dtype\": \"number\",\n        \"std\": 0.0761796573204536,\n        \"min\": 0.0,\n        \"max\": 1.0,\n        \"num_unique_values\": 1459,\n        \"samples\": [\n          0.1674,\n          0.6381\n        ],\n        \"semantic_type\": \"\",\n        \"description\": \"\"\n      }\n    },\n    {\n      \"column\": \"cambio_telefono\",\n      \"properties\": {\n        \"dtype\": \"number\",\n        \"std\": 818.1417090553241,\n        \"min\": 0.0,\n        \"max\": 4185.0,\n        \"num_unique_values\": 3408,\n        \"samples\": [\n          966.0,\n          3099.0\n        ],\n        \"semantic_type\": \"\",\n        \"description\": \"\"\n      }\n    },\n    {\n      \"column\": \"moroso\",\n      \"properties\": {\n        \"dtype\": \"number\",\n        \"std\": 0,\n        \"min\": 0,\n        \"max\": 1,\n        \"num_unique_values\": 2,\n        \"samples\": [\n          1,\n          0\n        ],\n        \"semantic_type\": \"\",\n        \"description\": \"\"\n      }\n    }\n  ]\n}"
            }
          },
          "metadata": {},
          "execution_count": 136
        }
      ]
    },
    {
      "cell_type": "code",
      "source": [
        "X = datos.drop(columns='moroso', axis=1)\n",
        "y = datos.moroso"
      ],
      "metadata": {
        "id": "MikoMXI7P4dG"
      },
      "execution_count": 137,
      "outputs": []
    },
    {
      "cell_type": "code",
      "source": [
        "from sklearn.tree import DecisionTreeClassifier\n",
        "\n",
        "modelo = DecisionTreeClassifier()\n",
        "modelo.fit(X, y)\n",
        "modelo.score(X, y)"
      ],
      "metadata": {
        "colab": {
          "base_uri": "https://localhost:8080/"
        },
        "id": "WmKhECB8wMJA",
        "outputId": "93160745-7910-424a-bdbd-d308fda14b0f"
      },
      "execution_count": 138,
      "outputs": [
        {
          "output_type": "execute_result",
          "data": {
            "text/plain": [
              "1.0"
            ]
          },
          "metadata": {},
          "execution_count": 138
        }
      ]
    },
    {
      "cell_type": "code",
      "source": [
        "print(f'La exactitud del modelo es de {modelo.score(X, y)}')"
      ],
      "metadata": {
        "colab": {
          "base_uri": "https://localhost:8080/"
        },
        "id": "g_vpNEEwwU35",
        "outputId": "05ea56b2-7ef6-442a-bca8-885d835cd3fe"
      },
      "execution_count": 139,
      "outputs": [
        {
          "output_type": "stream",
          "name": "stdout",
          "text": [
            "La exactitud del modelo es de 1.0\n"
          ]
        }
      ]
    },
    {
      "cell_type": "markdown",
      "source": [
        "### Validando el modelo"
      ],
      "metadata": {
        "id": "EPrFcm39oAof"
      }
    },
    {
      "cell_type": "markdown",
      "source": [
        "Evaluar el modelo con los mismos datos utilizados en el entrenamiento no es recomendable. Es necesario que la evaluación se realice con datos independientes.  \n",
        "\n",
        "Evaluar el modelo con los propios datos de entrenamiento sería equivalente a entregar un examen con las preguntas y las respuestas a una persona y, al momento de evaluarla nuevamente, entregarle un examen con las mismas preguntas y opciones. Se espera que esa persona obtenga un buen resultado, ya que ya ha visto las respuestas y ha memorizado el resultado. Esto es diferente de haber aprendido la materia a partir de ese examen y luego presentar una prueba con contenido similar y obtener un resultado positivo.  \n",
        "\n",
        "Con el objetivo de verificar la capacidad de generalización de un modelo, debemos dividir el conjunto de datos en tres partes: datos de entrenamiento, validación y prueba.  \n",
        "\n",
        "- El **conjunto de entrenamiento** se utiliza para entrenar los modelos. A partir de este conjunto, los modelos identifican patrones en los datos.  \n",
        "\n",
        "- El **conjunto de validación** se emplea para evaluar el desempeño de diferentes modelos con datos nuevos que no fueron utilizados en el entrenamiento.  \n",
        "\n",
        "- El **conjunto de prueba** se mantiene separado desde el inicio para simular datos del mundo real. No se utiliza en ninguna etapa del entrenamiento ni de la validación, sirviendo como una estimación de la capacidad del modelo elegido para generalizar y predecir nuevos datos."
      ],
      "metadata": {
        "id": "v0u-uij9eNcD"
      }
    },
    {
      "cell_type": "markdown",
      "source": [
        "<a href=\"https://ibb.co/9H2Z1HZ5\"><img src=\"https://i.ibb.co/0yZs6ysb/datos-train-test.png\" alt=\"datos-train-test\" border=\"0\"></a>"
      ],
      "metadata": {
        "id": "TCIN5oOJFk_W"
      }
    },
    {
      "cell_type": "code",
      "source": [
        "from sklearn.model_selection import train_test_split"
      ],
      "metadata": {
        "id": "OICJjv9HP1QZ"
      },
      "execution_count": 140,
      "outputs": []
    },
    {
      "cell_type": "code",
      "source": [
        "X,X_test,y,y_test = train_test_split(X, y, test_size=0.15, stratify=y, random_state=5)\n",
        "X_train,X_val,y_train,y_val = train_test_split(X, y, stratify=y, random_state=5)"
      ],
      "metadata": {
        "id": "mvDcVFFDP1sB"
      },
      "execution_count": 141,
      "outputs": []
    },
    {
      "cell_type": "code",
      "source": [
        "modelo = DecisionTreeClassifier()\n",
        "modelo.fit(X_train, y_train)\n",
        "print(f'La exactitud del modelo con el conjunto de entrenamiento es de: {modelo.score(X_train, y_train)}')\n",
        "print(f'La exactitud del modelo con el conjunto de validación es de: {modelo.score(X_val, y_val)}')"
      ],
      "metadata": {
        "id": "sEJPwwG_P1Md",
        "colab": {
          "base_uri": "https://localhost:8080/"
        },
        "outputId": "03222a65-fd8a-4cd0-8fbe-383895b493fd"
      },
      "execution_count": 142,
      "outputs": [
        {
          "output_type": "stream",
          "name": "stdout",
          "text": [
            "La exactitud del modelo con el conjunto de entrenamiento es de: 1.0\n",
            "La exactitud del modelo con el conjunto de validación es de: 0.8483581569549691\n"
          ]
        }
      ]
    },
    {
      "cell_type": "code",
      "source": [
        "modelo = DecisionTreeClassifier(max_depth=10)\n",
        "modelo.fit(X_train, y_train)\n",
        "print(f'La exactitud del modelo con el conjunto de entrenamiento es de: {modelo.score(X_train, y_train)}')\n",
        "print(f'La exactitud del modelo con el conjunto de validación es de: {modelo.score(X_val, y_val)}')"
      ],
      "metadata": {
        "id": "NIeGQZGcP1J1",
        "colab": {
          "base_uri": "https://localhost:8080/"
        },
        "outputId": "9ec8c182-e6f3-4e19-918d-7b0d117d97e6"
      },
      "execution_count": 143,
      "outputs": [
        {
          "output_type": "stream",
          "name": "stdout",
          "text": [
            "La exactitud del modelo con el conjunto de entrenamiento es de: 0.9206155632984901\n",
            "La exactitud del modelo con el conjunto de validación es de: 0.9055831373573731\n"
          ]
        }
      ]
    },
    {
      "cell_type": "markdown",
      "source": [
        "### Evaluando el modelo"
      ],
      "metadata": {
        "id": "WtlRAZt96VLG"
      }
    },
    {
      "cell_type": "code",
      "source": [
        "from sklearn.metrics import confusion_matrix"
      ],
      "metadata": {
        "id": "IlUZBhPrPyYh"
      },
      "execution_count": 144,
      "outputs": []
    },
    {
      "cell_type": "code",
      "source": [
        "y_previsto = modelo.predict(X_val)\n",
        "matriz_confusion = confusion_matrix(y_val, y_previsto)\n",
        "print(matriz_confusion)"
      ],
      "metadata": {
        "id": "iill3u5HPyOA",
        "colab": {
          "base_uri": "https://localhost:8080/"
        },
        "outputId": "2169b670-ded6-4bda-f294-75ad18535047"
      },
      "execution_count": 145,
      "outputs": [
        {
          "output_type": "stream",
          "name": "stdout",
          "text": [
            "[[10353   126]\n",
            " [  958    44]]\n"
          ]
        }
      ]
    },
    {
      "cell_type": "code",
      "source": [
        "from sklearn.metrics import ConfusionMatrixDisplay"
      ],
      "metadata": {
        "id": "gtFWt6emPyJt"
      },
      "execution_count": 146,
      "outputs": []
    },
    {
      "cell_type": "code",
      "source": [
        "visualizacion = ConfusionMatrixDisplay(confusion_matrix= matriz_confusion)\n",
        "visualizacion.plot();"
      ],
      "metadata": {
        "id": "qg0OgZeqPyGJ",
        "colab": {
          "base_uri": "https://localhost:8080/",
          "height": 449
        },
        "outputId": "101fda46-6aac-43fc-b342-57e4b5f79592"
      },
      "execution_count": 147,
      "outputs": [
        {
          "output_type": "display_data",
          "data": {
            "text/plain": [
              "<Figure size 640x480 with 2 Axes>"
            ],
            "image/png": "[encoded data removed]"
          },
          "metadata": {}
        }
      ]
    },
    {
      "cell_type": "code",
      "source": [
        "visualizacion = ConfusionMatrixDisplay(confusion_matrix= matriz_confusion, display_labels= ['Cumplido', 'Moroso'])\n",
        "visualizacion.plot();"
      ],
      "metadata": {
        "colab": {
          "base_uri": "https://localhost:8080/",
          "height": 449
        },
        "id": "ovO6tmOl20j-",
        "outputId": "b8d81b1b-7b7d-406a-c49e-c8b116463051"
      },
      "execution_count": 148,
      "outputs": [
        {
          "output_type": "display_data",
          "data": {
            "text/plain": [
              "<Figure size 640x480 with 2 Axes>"
            ],
            "image/png": "[encoded data removed]"
          },
          "metadata": {}
        }
      ]
    },
    {
      "cell_type": "markdown",
      "source": [
        "## <font color='dark'>Métricas de evaluación</h1>"
      ],
      "metadata": {
        "id": "tPogL-24ntSH"
      }
    },
    {
      "cell_type": "markdown",
      "source": [
        "### Exactitud, precisión y recall (sensibilidad)."
      ],
      "metadata": {
        "id": "nP1WfyyR6XMl"
      }
    },
    {
      "cell_type": "markdown",
      "source": [
        "<a href=\"https://ibb.co/351SbY7t\"><img src=\"https://i.ibb.co/wZypqrRD/matriz-confusion.png\" alt=\"matriz-confusion\" border=\"0\"></a>"
      ],
      "metadata": {
        "id": "oE8N0NqoH6hy"
      }
    },
    {
      "cell_type": "markdown",
      "source": [
        "<a href=\"https://imgbb.com/\"><img src=\"https://i.ibb.co/6Jp6rKyC/Captura-de-tela-2025-03-22-120744.png\" alt=\"Captura-de-tela-2025-03-22-120744\" border=\"0\"></a>"
      ],
      "metadata": {
        "id": "k0ldCSgoZiPX"
      }
    },
    {
      "cell_type": "code",
      "source": [
        "from sklearn.metrics import accuracy_score, precision_score, recall_score, f1_score"
      ],
      "metadata": {
        "id": "IIEaf2fmPmq1"
      },
      "execution_count": 149,
      "outputs": []
    },
    {
      "cell_type": "code",
      "source": [
        "45/(45+123) #precision"
      ],
      "metadata": {
        "id": "QnGxEIrWPmbx",
        "colab": {
          "base_uri": "https://localhost:8080/"
        },
        "outputId": "6c704a43-8404-4f3f-9223-02f41181b386"
      },
      "execution_count": 150,
      "outputs": [
        {
          "output_type": "execute_result",
          "data": {
            "text/plain": [
              "0.26785714285714285"
            ]
          },
          "metadata": {},
          "execution_count": 150
        }
      ]
    },
    {
      "cell_type": "code",
      "source": [
        "print(f'La presición del modelo es de: {precision_score(y_val, y_previsto)}')\n",
        "print(f'La sensibilidad (Recall) del modelo es de: {recall_score(y_val, y_previsto)}')\n",
        "print(f'La exactitud (accuracy) del modelo es de: {accuracy_score(y_val, y_previsto)}')"
      ],
      "metadata": {
        "id": "7C7NoVZnPmX1",
        "colab": {
          "base_uri": "https://localhost:8080/"
        },
        "outputId": "4f6e5dce-d395-4670-945d-4ce168e74f5f"
      },
      "execution_count": 151,
      "outputs": [
        {
          "output_type": "stream",
          "name": "stdout",
          "text": [
            "La presición del modelo es de: 0.25882352941176473\n",
            "La sensibilidad (Recall) del modelo es de: 0.043912175648702596\n",
            "La exactitud (accuracy) del modelo es de: 0.9055831373573731\n"
          ]
        }
      ]
    },
    {
      "cell_type": "code",
      "source": [
        "print(f'La F1-score del modelo es de: {f1_score(y_val, y_previsto)}')"
      ],
      "metadata": {
        "id": "u2SqICFJPmU-",
        "colab": {
          "base_uri": "https://localhost:8080/"
        },
        "outputId": "2d553fd8-0995-4415-baaa-b6687d415213"
      },
      "execution_count": 152,
      "outputs": [
        {
          "output_type": "stream",
          "name": "stdout",
          "text": [
            "La F1-score del modelo es de: 0.07508532423208192\n"
          ]
        }
      ]
    },
    {
      "cell_type": "markdown",
      "source": [
        "### Curva ROC"
      ],
      "metadata": {
        "id": "I8ELhexg2jNx"
      }
    },
    {
      "cell_type": "code",
      "source": [
        "from IPython.display import Image\n",
        "Image(url='https://raw.githubusercontent.com/dariyasydykova/open_projects/master/ROC_animation/animations/cutoff.gif')"
      ],
      "metadata": {
        "colab": {
          "base_uri": "https://localhost:8080/",
          "height": 421
        },
        "id": "PhUNE4Xm4MII",
        "outputId": "7daa68b3-852f-4ca3-9a64-0d02f45bc085"
      },
      "execution_count": 153,
      "outputs": [
        {
          "output_type": "execute_result",
          "data": {
            "text/html": [
              "<img src=\"https://raw.githubusercontent.com/dariyasydykova/open_projects/master/ROC_animation/animations/cutoff.gif\"/>"
            ],
            "text/plain": [
              "<IPython.core.display.Image object>"
            ]
          },
          "metadata": {},
          "execution_count": 153
        }
      ]
    },
    {
      "cell_type": "markdown",
      "source": [
        "Fuente: [paulvanderlaken.com](https://paulvanderlaken.com/2019/08/16/roc-auc-precision-and-recall-visually-explained/)\n",
        "\n",
        "\n"
      ],
      "metadata": {
        "id": "XK8_7Ruy32BT"
      }
    },
    {
      "cell_type": "code",
      "source": [
        "from sklearn.metrics import RocCurveDisplay"
      ],
      "metadata": {
        "id": "FHc-8FjePhM6"
      },
      "execution_count": 154,
      "outputs": []
    },
    {
      "cell_type": "code",
      "source": [
        "RocCurveDisplay.from_predictions(y_val, y_previsto, name= 'Árbol de decisión');"
      ],
      "metadata": {
        "id": "V6Ua2rY3PhFt",
        "colab": {
          "base_uri": "https://localhost:8080/",
          "height": 451
        },
        "outputId": "e645bd64-7c8f-4e72-c02c-db913511c3cf"
      },
      "execution_count": 155,
      "outputs": [
        {
          "output_type": "display_data",
          "data": {
            "text/plain": [
              "<Figure size 640x480 with 1 Axes>"
            ],
            "image/png": "[encoded data removed]"
          },
          "metadata": {}
        }
      ]
    },
    {
      "cell_type": "code",
      "source": [
        "from sklearn.metrics import roc_auc_score"
      ],
      "metadata": {
        "id": "LJE-yyWMPg8R"
      },
      "execution_count": 156,
      "outputs": []
    },
    {
      "cell_type": "code",
      "source": [
        "print(f'El área bajo la curva ROC es: {roc_auc_score(y_val, y_previsto)}')"
      ],
      "metadata": {
        "id": "7mtvjPHsPi1o",
        "colab": {
          "base_uri": "https://localhost:8080/"
        },
        "outputId": "fdd724e2-3c2c-4d31-8839-1e2a05748781"
      },
      "execution_count": 157,
      "outputs": [
        {
          "output_type": "stream",
          "name": "stdout",
          "text": [
            "El área bajo la curva ROC es: 0.5159440637762551\n"
          ]
        }
      ]
    },
    {
      "cell_type": "markdown",
      "source": [
        "### Curva de  precisión x sensibilidad"
      ],
      "metadata": {
        "id": "IztSEZfh7QFe"
      }
    },
    {
      "cell_type": "code",
      "source": [
        "Image(url='https://paulvanderlaken.com/wp-content/uploads/2019/08/roc.gif')"
      ],
      "metadata": {
        "colab": {
          "base_uri": "https://localhost:8080/",
          "height": 421
        },
        "id": "EJzfjuxa3fxD",
        "outputId": "5205fd56-0122-423d-aca5-92fc7752512b"
      },
      "execution_count": 158,
      "outputs": [
        {
          "output_type": "execute_result",
          "data": {
            "text/html": [
              "<img src=\"https://paulvanderlaken.com/wp-content/uploads/2019/08/roc.gif\"/>"
            ],
            "text/plain": [
              "<IPython.core.display.Image object>"
            ]
          },
          "metadata": {},
          "execution_count": 158
        }
      ]
    },
    {
      "cell_type": "markdown",
      "source": [
        "Fuente: [paulvanderlaken.com](https://paulvanderlaken.com/2019/08/16/roc-auc-precision-and-recall-visually-explained/)\n"
      ],
      "metadata": {
        "id": "bUoGCSUB4msC"
      }
    },
    {
      "cell_type": "code",
      "source": [
        "from sklearn.metrics import PrecisionRecallDisplay"
      ],
      "metadata": {
        "id": "7t20ira6Pcds"
      },
      "execution_count": 159,
      "outputs": []
    },
    {
      "cell_type": "code",
      "source": [
        "PrecisionRecallDisplay.from_predictions(y_val, y_previsto, name= 'Árbol de decisión')"
      ],
      "metadata": {
        "id": "Drs3Z6RTPcTc",
        "colab": {
          "base_uri": "https://localhost:8080/",
          "height": 469
        },
        "outputId": "9e8031cb-b241-47f8-bb4e-8233755b0629"
      },
      "execution_count": 160,
      "outputs": [
        {
          "output_type": "execute_result",
          "data": {
            "text/plain": [
              "<sklearn.metrics._plot.precision_recall_curve.PrecisionRecallDisplay at 0x7d6068f87ad0>"
            ]
          },
          "metadata": {},
          "execution_count": 160
        },
        {
          "output_type": "display_data",
          "data": {
            "text/plain": [
              "<Figure size 640x480 with 1 Axes>"
            ],
            "image/png": "[encoded data removed]"
          },
          "metadata": {}
        }
      ]
    },
    {
      "cell_type": "code",
      "source": [
        "from sklearn.metrics import average_precision_score"
      ],
      "metadata": {
        "id": "SS08sHDkPeaG"
      },
      "execution_count": 161,
      "outputs": []
    },
    {
      "cell_type": "code",
      "source": [
        "print(f'El score promedio de precisión vs recall es: {average_precision_score(y_val, y_previsto)}')"
      ],
      "metadata": {
        "id": "DmhO5H5cPcOp",
        "colab": {
          "base_uri": "https://localhost:8080/"
        },
        "outputId": "c2681818-49c7-49c3-8ccc-f18a4bc35952"
      },
      "execution_count": 162,
      "outputs": [
        {
          "output_type": "stream",
          "name": "stdout",
          "text": [
            "El score promedio de precisión vs recall es: 0.09480771315237001\n"
          ]
        }
      ]
    },
    {
      "cell_type": "markdown",
      "source": [
        "### Informe de métricas"
      ],
      "metadata": {
        "id": "Bm2E6GEJDJLH"
      }
    },
    {
      "cell_type": "code",
      "source": [
        "from sklearn.metrics import classification_report"
      ],
      "metadata": {
        "id": "C85qunYhPZTJ"
      },
      "execution_count": 163,
      "outputs": []
    },
    {
      "cell_type": "code",
      "source": [
        "print(classification_report(y_val, y_previsto))"
      ],
      "metadata": {
        "id": "pnN6QRlYPZQR",
        "colab": {
          "base_uri": "https://localhost:8080/"
        },
        "outputId": "c47117eb-3777-4e84-b304-c03cf36bfc53"
      },
      "execution_count": 164,
      "outputs": [
        {
          "output_type": "stream",
          "name": "stdout",
          "text": [
            "              precision    recall  f1-score   support\n",
            "\n",
            "           0       0.92      0.99      0.95     10479\n",
            "           1       0.26      0.04      0.08      1002\n",
            "\n",
            "    accuracy                           0.91     11481\n",
            "   macro avg       0.59      0.52      0.51     11481\n",
            "weighted avg       0.86      0.91      0.87     11481\n",
            "\n"
          ]
        }
      ]
    },
    {
      "cell_type": "markdown",
      "source": [
        "## <font color='dark'> Validación cruzada</h1>"
      ],
      "metadata": {
        "id": "SuxCy_oZZQxE"
      }
    },
    {
      "cell_type": "markdown",
      "source": [
        "### Usando KFold"
      ],
      "metadata": {
        "id": "17q2T0iRnzSg"
      }
    },
    {
      "cell_type": "markdown",
      "source": [
        "La validación del modelo de clasificación a partir de la separación de los datos en conjuntos de entrenamiento y validación hace que el resultado dependa en gran medida de esta división. Puede suceder que, de forma aleatoria, el patrón de los datos de validación sea diferente al de los datos de entrenamiento, lo que podría llevar a obtener un resultado mucho mejor o mucho peor que la realidad simplemente por suerte o mala suerte.  \n",
        "\n",
        "Teniendo esto en cuenta, es posible utilizar la **validación cruzada**, una estrategia más consistente y ampliamente utilizada en proyectos de *machine learning*.  \n",
        "\n",
        "En la validación cruzada, en lugar de separar los datos en entrenamiento y validación una sola vez, se dividen en varias partes de igual tamaño. En cada una de estas divisiones, se usa una parte para validación y todas las demás para entrenamiento. Este proceso se repite hasta que todas las partes hayan sido utilizadas tanto para validación como para entrenamiento.  \n",
        "\n",
        "Se generará un modelo para cada una de estas divisiones y la evaluación del desempeño se realizará promediando la métrica de cada modelo. Esto elimina la dependencia de la separación de los datos, ya que hay una mayor variación en la selección de los mismos y se obtiene un valor medio.  \n",
        "\n",
        "Generalmente, se utilizan 5 o 10 partes. Un número mayor no suele ser necesario, ya que implica un procesamiento más costoso, y valores menores ya ayudan a mitigar el problema de la selección de los datos."
      ],
      "metadata": {
        "id": "zjfYnDWJ6C2A"
      }
    },
    {
      "cell_type": "markdown",
      "source": [
        "<a href=\"https://ibb.co/KcBtshJR\"><img src=\"https://i.ibb.co/nq4X1mFZ/train-y-validacion.png\" alt=\"train-y-validacion\" border=\"0\"></a>"
      ],
      "metadata": {
        "id": "oSboV-QNMG__"
      }
    },
    {
      "cell_type": "code",
      "source": [
        "from sklearn.model_selection import KFold, cross_validate"
      ],
      "metadata": {
        "id": "TU8HYdzmPI7P"
      },
      "execution_count": 165,
      "outputs": []
    },
    {
      "cell_type": "code",
      "source": [
        "modelo = DecisionTreeClassifier(max_depth=10)\n",
        "kf = KFold(n_splits=5, shuffle=True, random_state=5)\n",
        "cv_resultados = cross_validate(modelo, X, y, cv=kf)\n",
        "cv_resultados"
      ],
      "metadata": {
        "id": "McSadnzDPI4G",
        "colab": {
          "base_uri": "https://localhost:8080/"
        },
        "outputId": "b3d5f647-9290-47b6-cf54-a37eabfaea52"
      },
      "execution_count": 166,
      "outputs": [
        {
          "output_type": "execute_result",
          "data": {
            "text/plain": [
              "{'fit_time': array([0.31305742, 0.30159187, 0.31023383, 0.31292605, 0.31114888]),\n",
              " 'score_time': array([0.00482178, 0.00447154, 0.00427866, 0.00438452, 0.00456285]),\n",
              " 'test_score': array([0.91290147, 0.90777439, 0.90766551, 0.91321864, 0.89917247])}"
            ]
          },
          "metadata": {},
          "execution_count": 166
        }
      ]
    },
    {
      "cell_type": "code",
      "source": [
        "cv_resultados['test_score']"
      ],
      "metadata": {
        "id": "o5oZ8-lhPIy_",
        "colab": {
          "base_uri": "https://localhost:8080/"
        },
        "outputId": "335b656d-92ee-4365-bd19-9cc28435f924"
      },
      "execution_count": 167,
      "outputs": [
        {
          "output_type": "execute_result",
          "data": {
            "text/plain": [
              "array([0.91290147, 0.90777439, 0.90766551, 0.91321864, 0.89917247])"
            ]
          },
          "metadata": {},
          "execution_count": 167
        }
      ]
    },
    {
      "cell_type": "code",
      "source": [
        "promedio = cv_resultados['test_score'].mean()\n",
        "desvio_std = cv_resultados['test_score'].std()\n",
        "print(f'El promedio de la exactitud es de: {promedio}')\n",
        "print(f'El desvío típico es de: {desvio_std}')\n",
        "print(f'El intervalo de confianza es : [{promedio-2*desvio_std},{min(promedio+2*desvio_std,1)}]')"
      ],
      "metadata": {
        "colab": {
          "base_uri": "https://localhost:8080/"
        },
        "id": "8dIc3PJqj2UZ",
        "outputId": "bf70e679-0422-4232-d2c0-9c58d343d6c5"
      },
      "execution_count": 168,
      "outputs": [
        {
          "output_type": "stream",
          "name": "stdout",
          "text": [
            "El promedio de la exactitud es de: 0.9081464960481318\n",
            "El desvío típico es de: 0.005084079461218977\n",
            "El intervalo de confianza es : [0.8979783371256939,0.9183146549705697]\n"
          ]
        }
      ]
    },
    {
      "cell_type": "markdown",
      "source": [],
      "metadata": {
        "id": "scSoMzRVlD4e"
      }
    },
    {
      "cell_type": "markdown",
      "source": [
        "### Validación cruzada con sensibilidad"
      ],
      "metadata": {
        "id": "GAHrtLM2OCjO"
      }
    },
    {
      "cell_type": "code",
      "source": [
        "def intervalo_confianza(resultados):\n",
        "  promedio = resultados['test_score'].mean()\n",
        "  desvio_std = resultados['test_score'].std()\n",
        "  return f'El intervalo de confianza es : [{promedio-2*desvio_std},{min(promedio+2*desvio_std,1)}]'"
      ],
      "metadata": {
        "id": "Ywfsoe3_PLYZ"
      },
      "execution_count": 169,
      "outputs": []
    },
    {
      "cell_type": "code",
      "source": [
        "modelo = DecisionTreeClassifier(max_depth=10)\n",
        "kf = KFold(n_splits=5, shuffle=True, random_state=5)\n",
        "cv_resultados = cross_validate(modelo, X, y, cv=kf, scoring= 'recall')\n",
        "cv_resultados"
      ],
      "metadata": {
        "id": "PV3m-6IxPLMf",
        "colab": {
          "base_uri": "https://localhost:8080/"
        },
        "outputId": "ed1e28bf-6078-4f34-b899-5613fb9d147b"
      },
      "execution_count": 170,
      "outputs": [
        {
          "output_type": "execute_result",
          "data": {
            "text/plain": [
              "{'fit_time': array([0.31718826, 0.22426128, 0.23579836, 0.23121142, 0.22582746]),\n",
              " 'score_time': array([0.00567937, 0.00677061, 0.0060091 , 0.00561285, 0.00545526]),\n",
              " 'test_score': array([0.02906209, 0.0210396 , 0.0196802 , 0.0156658 , 0.02427746])}"
            ]
          },
          "metadata": {},
          "execution_count": 170
        }
      ]
    },
    {
      "cell_type": "code",
      "source": [
        "intervalo_confianza(cv_resultados)"
      ],
      "metadata": {
        "id": "Y-gpgU7pPLJv",
        "colab": {
          "base_uri": "https://localhost:8080/",
          "height": 36
        },
        "outputId": "6dfd7dbc-754a-4508-97e3-a3ef15e22506"
      },
      "execution_count": 171,
      "outputs": [
        {
          "output_type": "execute_result",
          "data": {
            "text/plain": [
              "'El intervalo de confianza es : [0.012935222059937893,0.0309548343163309]'"
            ],
            "application/vnd.google.colaboratory.intrinsic+json": {
              "type": "string"
            }
          },
          "metadata": {},
          "execution_count": 171
        }
      ]
    },
    {
      "cell_type": "code",
      "source": [
        "modelo = DecisionTreeClassifier(max_depth = 10)\n",
        "kf = KFold(n_splits=5, shuffle = True, random_state = 5)\n",
        "cv_resultados = cross_validate(modelo, X, y, cv=kf, scoring = ['accuracy','recall', 'precision', 'f1'])\n",
        "cv_resultados"
      ],
      "metadata": {
        "colab": {
          "base_uri": "https://localhost:8080/"
        },
        "id": "gaiapychp6ZX",
        "outputId": "1933dab6-896c-4ce0-b07c-38a15f47b153"
      },
      "execution_count": 172,
      "outputs": [
        {
          "output_type": "execute_result",
          "data": {
            "text/plain": [
              "{'fit_time': array([0.22294283, 0.22822762, 0.22212434, 0.22172809, 0.22162271]),\n",
              " 'score_time': array([0.01183462, 0.01628566, 0.01423359, 0.01123786, 0.01170111]),\n",
              " 'test_accuracy': array([0.91311922, 0.90712108, 0.90755662, 0.91332753, 0.89960801]),\n",
              " 'test_recall': array([0.02906209, 0.01980198, 0.0196802 , 0.01436031, 0.02427746]),\n",
              " 'test_precision': array([0.25882353, 0.20779221, 0.23529412, 0.21153846, 0.21212121]),\n",
              " 'test_f1': array([0.05225653, 0.03615819, 0.03632236, 0.02689487, 0.04356846])}"
            ]
          },
          "metadata": {},
          "execution_count": 172
        }
      ]
    },
    {
      "cell_type": "code",
      "source": [
        "def informe_metricas(resultados):\n",
        "    for metrica in ['test_accuracy', 'test_recall', 'test_precision', 'test_f1']:\n",
        "        media = resultados[metrica].mean()\n",
        "        desvio_estandar = resultados[metrica].std()\n",
        "        print(f'Intervalo de confianza({metrica}): [{media-2*desvio_estandar}, {min(media+2*desvio_estandar, 1.0)}]')"
      ],
      "metadata": {
        "id": "dqxRvFZYqKnV"
      },
      "execution_count": 173,
      "outputs": []
    },
    {
      "cell_type": "code",
      "source": [
        "informe_metricas(cv_resultados)"
      ],
      "metadata": {
        "colab": {
          "base_uri": "https://localhost:8080/"
        },
        "id": "L2XermyIqMIw",
        "outputId": "4e21d362-c63b-4ddf-d184-93a46f790186"
      },
      "execution_count": 174,
      "outputs": [
        {
          "output_type": "stream",
          "name": "stdout",
          "text": [
            "Intervalo de confianza(test_accuracy): [0.8981115074745497, 0.9181814751379888]\n",
            "Intervalo de confianza(test_recall): [0.011555140171895554, 0.031317673487934496]\n",
            "Intervalo de confianza(test_precision): [0.18619738545585027, 0.26403042594843174]\n",
            "Intervalo de confianza(test_f1): [0.02210778534711762, 0.055972380799413815]\n"
          ]
        }
      ]
    },
    {
      "cell_type": "markdown",
      "source": [
        "### Estratificando los datos"
      ],
      "metadata": {
        "id": "-FAOYtNen4qJ"
      }
    },
    {
      "cell_type": "code",
      "source": [
        "datos['moroso'].value_counts(normalize=True)"
      ],
      "metadata": {
        "id": "G6bPA6vaPN1A",
        "colab": {
          "base_uri": "https://localhost:8080/",
          "height": 178
        },
        "outputId": "0713b549-bd7d-4d20-bac4-de75a869fdc5"
      },
      "execution_count": 175,
      "outputs": [
        {
          "output_type": "execute_result",
          "data": {
            "text/plain": [
              "moroso\n",
              "0    0.912707\n",
              "1    0.087293\n",
              "Name: proportion, dtype: float64"
            ],
            "text/html": [
              "<div>\n",
              "<style scoped>\n",
              "    .dataframe tbody tr th:only-of-type {\n",
              "        vertical-align: middle;\n",
              "    }\n",
              "\n",
              "    .dataframe tbody tr th {\n",
              "        vertical-align: top;\n",
              "    }\n",
              "\n",
              "    .dataframe thead th {\n",
              "        text-align: right;\n",
              "    }\n",
              "</style>\n",
              "<table border=\"1\" class=\"dataframe\">\n",
              "  <thead>\n",
              "    <tr style=\"text-align: right;\">\n",
              "      <th></th>\n",
              "      <th>proportion</th>\n",
              "    </tr>\n",
              "    <tr>\n",
              "      <th>moroso</th>\n",
              "      <th></th>\n",
              "    </tr>\n",
              "  </thead>\n",
              "  <tbody>\n",
              "    <tr>\n",
              "      <th>0</th>\n",
              "      <td>0.912707</td>\n",
              "    </tr>\n",
              "    <tr>\n",
              "      <th>1</th>\n",
              "      <td>0.087293</td>\n",
              "    </tr>\n",
              "  </tbody>\n",
              "</table>\n",
              "</div><br><label><b>dtype:</b> float64</label>"
            ]
          },
          "metadata": {},
          "execution_count": 175
        }
      ]
    },
    {
      "cell_type": "code",
      "source": [
        "from sklearn.model_selection import StratifiedKFold"
      ],
      "metadata": {
        "id": "HONIpY1BPNzd"
      },
      "execution_count": 176,
      "outputs": []
    },
    {
      "cell_type": "code",
      "source": [
        "modelo = DecisionTreeClassifier(max_depth=10)\n",
        "skf = StratifiedKFold(n_splits=5, shuffle=True, random_state=5)\n",
        "cv_resultados = cross_validate(modelo, X, y, cv=skf, scoring= 'recall')"
      ],
      "metadata": {
        "id": "jCFRBhd_PNxT"
      },
      "execution_count": 177,
      "outputs": []
    },
    {
      "cell_type": "code",
      "source": [
        "intervalo_confianza(cv_resultados)"
      ],
      "metadata": {
        "colab": {
          "base_uri": "https://localhost:8080/",
          "height": 36
        },
        "id": "x2QZm6snssgT",
        "outputId": "52acb74f-9b6b-487e-b1d8-6b698bdad50a"
      },
      "execution_count": 178,
      "outputs": [
        {
          "output_type": "execute_result",
          "data": {
            "text/plain": [
              "'El intervalo de confianza es : [0.021310525418528785,0.03406352385279975]'"
            ],
            "application/vnd.google.colaboratory.intrinsic+json": {
              "type": "string"
            }
          },
          "metadata": {},
          "execution_count": 178
        }
      ]
    },
    {
      "cell_type": "markdown",
      "source": [
        "## <font color='dark'>Balanceo de los datos</h1>"
      ],
      "metadata": {
        "id": "yaVwNb1kn8sX"
      }
    },
    {
      "cell_type": "markdown",
      "source": [
        "### Oversampling"
      ],
      "metadata": {
        "id": "4eYKxWJd6g6w"
      }
    },
    {
      "cell_type": "markdown",
      "source": [
        "https://imbalanced-learn.org/stable/references/generated/imblearn.over_sampling.SMOTE.html#id1"
      ],
      "metadata": {
        "id": "N0MJ7hGUmL4l"
      }
    },
    {
      "cell_type": "code",
      "source": [
        "from imblearn.over_sampling import SMOTE"
      ],
      "metadata": {
        "id": "cO0Dx5xAO4B5"
      },
      "execution_count": 179,
      "outputs": []
    },
    {
      "cell_type": "code",
      "source": [
        "over_sampling = SMOTE()\n",
        "x_balanceada, y_balanceada = over_sampling.fit_resample(X, y)"
      ],
      "metadata": {
        "id": "h6DQqcttO3_c"
      },
      "execution_count": 180,
      "outputs": []
    },
    {
      "cell_type": "code",
      "source": [
        "y_balanceada.value_counts(normalize= True)"
      ],
      "metadata": {
        "id": "7Lp4GoMRO355",
        "colab": {
          "base_uri": "https://localhost:8080/",
          "height": 178
        },
        "outputId": "10dca8a3-8626-4d07-bfdb-b1994e0c424f"
      },
      "execution_count": 181,
      "outputs": [
        {
          "output_type": "execute_result",
          "data": {
            "text/plain": [
              "moroso\n",
              "0    0.5\n",
              "1    0.5\n",
              "Name: proportion, dtype: float64"
            ],
            "text/html": [
              "<div>\n",
              "<style scoped>\n",
              "    .dataframe tbody tr th:only-of-type {\n",
              "        vertical-align: middle;\n",
              "    }\n",
              "\n",
              "    .dataframe tbody tr th {\n",
              "        vertical-align: top;\n",
              "    }\n",
              "\n",
              "    .dataframe thead th {\n",
              "        text-align: right;\n",
              "    }\n",
              "</style>\n",
              "<table border=\"1\" class=\"dataframe\">\n",
              "  <thead>\n",
              "    <tr style=\"text-align: right;\">\n",
              "      <th></th>\n",
              "      <th>proportion</th>\n",
              "    </tr>\n",
              "    <tr>\n",
              "      <th>moroso</th>\n",
              "      <th></th>\n",
              "    </tr>\n",
              "  </thead>\n",
              "  <tbody>\n",
              "    <tr>\n",
              "      <th>0</th>\n",
              "      <td>0.5</td>\n",
              "    </tr>\n",
              "    <tr>\n",
              "      <th>1</th>\n",
              "      <td>0.5</td>\n",
              "    </tr>\n",
              "  </tbody>\n",
              "</table>\n",
              "</div><br><label><b>dtype:</b> float64</label>"
            ]
          },
          "metadata": {},
          "execution_count": 181
        }
      ]
    },
    {
      "cell_type": "code",
      "source": [
        "modelo = DecisionTreeClassifier(max_depth=10)\n",
        "skf = StratifiedKFold(n_splits=5, shuffle=True, random_state=5)\n",
        "cv_resultados = cross_validate(modelo, x_balanceada, y_balanceada, cv=skf, scoring= 'recall')"
      ],
      "metadata": {
        "id": "o7bIce8t8Itf"
      },
      "execution_count": 182,
      "outputs": []
    },
    {
      "cell_type": "code",
      "source": [
        "intervalo_confianza(cv_resultados)"
      ],
      "metadata": {
        "colab": {
          "base_uri": "https://localhost:8080/",
          "height": 36
        },
        "id": "_fDrYqeS8l0u",
        "outputId": "e12a5a5b-f5b1-402c-bd1f-90f687ae6eb6"
      },
      "execution_count": 183,
      "outputs": [
        {
          "output_type": "execute_result",
          "data": {
            "text/plain": [
              "'El intervalo de confianza es : [0.7289842179961873,0.7622363109440989]'"
            ],
            "application/vnd.google.colaboratory.intrinsic+json": {
              "type": "string"
            }
          },
          "metadata": {},
          "execution_count": 183
        }
      ]
    },
    {
      "cell_type": "markdown",
      "source": [
        "### Otros métodos de balanceo"
      ],
      "metadata": {
        "id": "aR0nwFjfJnEI"
      }
    },
    {
      "cell_type": "markdown",
      "source": [
        "Utilizando el algoritmo SMOTEENN, que combina el oversampling con SMOTE y el undersampling con el ENN (Edited Nearest Neighbours), para balancear los datos y observar los resultados obtenidos por el modelo usando el pipeline y la validación cruzada.\n",
        "\n",
        "*Documentación del método SMOTEENN a partir de este enlace: https://imbalanced-learn.org/stable/references/generated/imblearn.combine.SMOTEENN.html para identificar cómo importar el método y cómo utilizarlo.*"
      ],
      "metadata": {
        "id": "xrKYHrl4Jr1R"
      }
    },
    {
      "cell_type": "code",
      "source": [
        "from imblearn.combine import SMOTEENN"
      ],
      "metadata": {
        "id": "J6p_qFwqJDox"
      },
      "execution_count": 184,
      "outputs": []
    },
    {
      "cell_type": "code",
      "source": [
        "modelo = DecisionTreeClassifier(max_depth = 10)\n",
        "pipeline = imbpipeline([('smoteenn', SMOTEENN()), ('arbol', modelo)])"
      ],
      "metadata": {
        "id": "YHe5tjnfJE9z"
      },
      "execution_count": 185,
      "outputs": []
    },
    {
      "cell_type": "code",
      "source": [
        "skf = StratifiedKFold(n_splits=5, shuffle = True, random_state = 5)\n",
        "cv_resultados = cross_validate(pipeline, X, y, cv=skf, scoring = 'recall')"
      ],
      "metadata": {
        "id": "hcv-cpnXJIDk"
      },
      "execution_count": 186,
      "outputs": []
    },
    {
      "cell_type": "code",
      "source": [
        "intervalo_confianza(cv_resultados)"
      ],
      "metadata": {
        "colab": {
          "base_uri": "https://localhost:8080/",
          "height": 36
        },
        "id": "4gPT2J69JVhE",
        "outputId": "90b5be06-1392-455c-bcdf-d0c1cea76a39"
      },
      "execution_count": 187,
      "outputs": [
        {
          "output_type": "execute_result",
          "data": {
            "text/plain": [
              "'El intervalo de confianza es : [0.27893413579099996,0.473897891506549]'"
            ],
            "application/vnd.google.colaboratory.intrinsic+json": {
              "type": "string"
            }
          },
          "metadata": {},
          "execution_count": 187
        }
      ]
    },
    {
      "cell_type": "markdown",
      "source": [
        "### Pipeline para validación"
      ],
      "metadata": {
        "id": "fHSNXznm6ia-"
      }
    },
    {
      "cell_type": "code",
      "source": [
        "from imblearn.pipeline import Pipeline as imbpipeline"
      ],
      "metadata": {
        "id": "DaoAbR84O44S"
      },
      "execution_count": 188,
      "outputs": []
    },
    {
      "cell_type": "code",
      "source": [
        "modelo = DecisionTreeClassifier(max_depth=10)\n",
        "pipeline = imbpipeline([('oversample', SMOTE()),('arbol', modelo)])"
      ],
      "metadata": {
        "id": "7UezUduWO41c"
      },
      "execution_count": 189,
      "outputs": []
    },
    {
      "cell_type": "code",
      "source": [
        "skf = StratifiedKFold(n_splits=5, shuffle=True, random_state=5)\n",
        "cv_resultados = cross_validate(pipeline, X, y, cv=skf, scoring= 'recall')"
      ],
      "metadata": {
        "id": "b7Z-pe6wO4yN"
      },
      "execution_count": 190,
      "outputs": []
    },
    {
      "cell_type": "code",
      "source": [
        "intervalo_confianza(cv_resultados)"
      ],
      "metadata": {
        "colab": {
          "base_uri": "https://localhost:8080/",
          "height": 36
        },
        "id": "gvs1BABX_4h_",
        "outputId": "7abeec1c-182b-4c29-f7f8-acac52a89778"
      },
      "execution_count": 191,
      "outputs": [
        {
          "output_type": "execute_result",
          "data": {
            "text/plain": [
              "'El intervalo de confianza es : [0.19093170834847006,0.27003759124897825]'"
            ],
            "application/vnd.google.colaboratory.intrinsic+json": {
              "type": "string"
            }
          },
          "metadata": {},
          "execution_count": 191
        }
      ]
    },
    {
      "cell_type": "markdown",
      "source": [
        "### Undersampling"
      ],
      "metadata": {
        "id": "66PlvwjX6kFv"
      }
    },
    {
      "cell_type": "markdown",
      "source": [
        "https://imbalanced-learn.org/stable/references/generated/imblearn.under_sampling.NearMiss.html"
      ],
      "metadata": {
        "id": "Fh6VZN5Fx7wl"
      }
    },
    {
      "cell_type": "code",
      "source": [
        "from imblearn.under_sampling import NearMiss"
      ],
      "metadata": {
        "id": "lUn59uqAO63N"
      },
      "execution_count": 192,
      "outputs": []
    },
    {
      "cell_type": "code",
      "source": [
        "modelo = DecisionTreeClassifier(max_depth=10)\n",
        "pipeline = imbpipeline([('undersample', NearMiss(version= 3)),('arbol', modelo)])\n",
        "skf = StratifiedKFold(n_splits=5, shuffle=True, random_state=5)\n",
        "cv_resultados = cross_validate(pipeline, X, y, cv=skf, scoring= 'recall')"
      ],
      "metadata": {
        "id": "pOUKHwqRO6zb"
      },
      "execution_count": 193,
      "outputs": []
    },
    {
      "cell_type": "code",
      "source": [
        "intervalo_confianza(cv_resultados)"
      ],
      "metadata": {
        "id": "ykn9H4kFO6so",
        "colab": {
          "base_uri": "https://localhost:8080/",
          "height": 36
        },
        "outputId": "8ddbd087-a273-404d-ee20-98c426b0ff18"
      },
      "execution_count": 194,
      "outputs": [
        {
          "output_type": "execute_result",
          "data": {
            "text/plain": [
              "'El intervalo de confianza es : [0.6156914986958805,0.7023237005096014]'"
            ],
            "application/vnd.google.colaboratory.intrinsic+json": {
              "type": "string"
            }
          },
          "metadata": {},
          "execution_count": 194
        }
      ]
    },
    {
      "cell_type": "markdown",
      "source": [
        "### Probando el modelo"
      ],
      "metadata": {
        "id": "EP-44U0eHt-a"
      }
    },
    {
      "cell_type": "code",
      "source": [
        "undersample = NearMiss(version= 3)\n",
        "x_balanceada, y_balanceada = undersample.fit_resample(X, y)"
      ],
      "metadata": {
        "id": "XWhZlwOTO8eN"
      },
      "execution_count": 195,
      "outputs": []
    },
    {
      "cell_type": "code",
      "source": [
        "modelo = DecisionTreeClassifier(max_depth=10)\n",
        "modelo.fit(x_balanceada, y_balanceada)\n",
        "y_previsto = modelo.predict(X_test)\n",
        "\n",
        "print(classification_report(y_test, y_previsto))\n",
        "ConfusionMatrixDisplay.from_predictions(y_test, y_previsto);"
      ],
      "metadata": {
        "id": "gZHVqM6hO8bt",
        "colab": {
          "base_uri": "https://localhost:8080/",
          "height": 613
        },
        "outputId": "b1dc44e2-0566-4693-af1d-0b38dc54b54f"
      },
      "execution_count": 196,
      "outputs": [
        {
          "output_type": "stream",
          "name": "stdout",
          "text": [
            "              precision    recall  f1-score   support\n",
            "\n",
            "           0       0.94      0.48      0.64      7397\n",
            "           1       0.11      0.70      0.20       707\n",
            "\n",
            "    accuracy                           0.50      8104\n",
            "   macro avg       0.53      0.59      0.42      8104\n",
            "weighted avg       0.87      0.50      0.60      8104\n",
            "\n"
          ]
        },
        {
          "output_type": "display_data",
          "data": {
            "text/plain": [
              "<Figure size 640x480 with 2 Axes>"
            ],
            "image/png": "[encoded data removed]"
          },
          "metadata": {}
        }
      ]
    },
    {
      "cell_type": "markdown",
      "source": [
        "***El objetivo principal es priorizar la métrica de Recall para identificar de forma más efectiva a los clientes morosos y evitar pérdidas financieras. El modelo final logra predecir correctamente 496 casos de clientes morosos, con un Recall del 70%. Sin embargo, se sacrifica la precisión, que queda en un 11%.***"
      ],
      "metadata": {
        "id": "uhuNevIAHyI6"
      }
    },
    {
      "cell_type": "markdown",
      "source": [
        "La idea de la empresa era dejar de perder dinero con clientes morosos porque no los estaban identificando correctamente. Ahora, están identificando correctamente a los clientes morosos, pero a cambio, podrían terminar prediciendo que clientes que son posiblemente buenos pagadores sean morosos. Por eso, estoy teniendo esta cantidad de falsos positivos."
      ],
      "metadata": {
        "id": "ju_5hmokHdT3"
      }
    },
    {
      "cell_type": "markdown",
      "source": [
        "Para la empresa, esto representa lógicamente un riesgo que va a asumir. La idea es que no vamos a prestar a tantas personas, ¿verdad? No vamos a financiar a tantas personas, pero a cambio, nos aseguraremos de identificar a los morosos antes de conocer las características de estos clientes morosos antes de prestarles. Vamos a proceder con pasos un poco más seguros aquí, trabajando con este modelo de Machine Learning (Aprendizaje Automático) para identificar a clientes morosos."
      ],
      "metadata": {
        "id": "Wk8F3dvKHfNq"
      }
    }
  ]
}